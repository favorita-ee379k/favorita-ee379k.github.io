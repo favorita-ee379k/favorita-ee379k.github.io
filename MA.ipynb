{
 "cells": [
  {
   "cell_type": "markdown",
   "metadata": {},
   "source": [
    "# <p style=\"text-align: center;\">EE 371K Data Science Laboratory final report</p>\n",
    "## <p style=\"text-align: center;\">Favorita Grocery Sales Forecasting</p>\n",
    "\n",
    "## <p style=\"text-align: center;\">Fenglong Cai | Kyle Bradford  | Spencer Yue | Yiming Liao</p>"
   ]
  },
  {
   "cell_type": "markdown",
   "metadata": {},
   "source": [
    "\n",
    "\n",
    "\n",
    "### 1. Introduction\n",
    "\n",
    "Brick-and-mortar grocery stores are always in a delicate dance with purchasing and sales forecasting. Predict a little over, and grocers are stuck with overstocked, perishable goods. Guess a little under, and popular items quickly sell out, leaving money on the table and customers fuming.\n",
    "\n",
    "Our project，which is based on the ongoing kaggle competition, is aim to predict the unit sales for thousands of items sold at different Favorita stores located in Ecuador. If we can build a model that more accurately forecasts product sales, we can better ensure the grocery stores please customers by having just enough of the right products at the right time."
   ]
  },
  {
   "cell_type": "markdown",
   "metadata": {},
   "source": [
    "### 2. Data Analysis\n",
    "\n",
    "Below is the structure of our data.We have six data file contains information from three dimension: store, item and date.\n",
    "\n",
    "\n",
    "\n",
    "<img src=\"https://favorita-ee379k.github.io/MA_graph/data_structure.png\"\n",
    "style=\"width:500px;height:310px;float\">\n",
    "\n",
    "\n",
    "Training data includes the target unit_sales by date, store_nbr, and item_nbr.From the stores' number, items' number and date we can find supplementary information，such as store location，item class and oil price，from other data file.The supplementary information that may be useful in building your models.\n",
    "\n",
    "Before predicting the unit sales, we first did data analysis to gain some useful information.\n",
    "\n",
    "We focused on the information of store at first step.The most important information of store is total transactions. Total transactions is the sum of all items' unit sales in a store. We could select valuable features based on the total transactions  \n",
    "\n",
    "<img src=\"https://favorita-ee379k.github.io/MA_graph/store_transaction.png\"\n",
    "style=\"width:600px;height:310px;float\">\n",
    "\n",
    "We found that the variance of total transactions of the stores in same cluster or type is small. So we think the cluster and type of stores are really important features of stores.\n",
    "\n",
    "Then we try to explore the influence of holiday on the total transaction. \n",
    "\n",
    "<img src=\"https://favorita-ee379k.github.io/MA_graph/holiday.png\"\n",
    "style=\"width:600px;height:310px;float\">\n",
    "\n",
    "We found that,generally, the transactions of the day before holidays are larger than the original days. We can found that from the orange nodes in the following picture.However, the data we try to predict are on August. There is only one holiday on August which is a special case，the transactions of the day before this holiday is as usual.\n",
    "\n",
    "Then we turn to the oil price. We see the correlation between the oil price and the total transactions of different stores. Then the results showed that oil price have little influence on the total transactions.  \n",
    "\n",
    "<img src=\"https://favorita-ee379k.github.io/MA_graph/oil.png\"\n",
    "style=\"width:400px;height:310px;float\">"
   ]
  },
  {
   "cell_type": "markdown",
   "metadata": {},
   "source": [
    "### Moving Average"
   ]
  },
  {
   "cell_type": "markdown",
   "metadata": {},
   "source": [
    "A moving average (rolling average or running average) is a calculation to analyze data points by creating series of averages of different subsets of the full data set.\n",
    "\n",
    "In this problem, we focused on the unit sales and date ignoring other supplementary information for moving average model. We group the data by their item number and store number so that get a series of data for a item in one store.Just as the following figure show:\n",
    "\n",
    "<img src=\"https://favorita-ee379k.github.io/MA_graph/series.png\"\n",
    "style=\"width:500px;height:310px;float\">\n",
    "\n",
    "Then we averaged their unit sales to get the prediction of unit sales to test data. And we selected different time slot including 1 day ago 7 day ago and so on,to do the average operation. We created series of averages for different time slot. Then we choose the median value among those average value as our prediction.  \n",
    "\n",
    "There is part of code of moving average:\n"
   ]
  },
  {
   "cell_type": "code",
   "execution_count": null,
   "metadata": {
    "collapsed": true
   },
   "outputs": [],
   "source": [
    "ma_is = train[['item_nbr','store_nbr','unit_sales']].groupby(['item_nbr','store_nbr'])['unit_sales'].mean().to_frame('mais226')\n",
    "for i in [112,56,28,14,7,3,1]:\n",
    "    tmp = train[train.date>lastdate-timedelta(int(i))]\n",
    "    tmpg = tmp.groupby(['item_nbr','store_nbr'])['unit_sales'].mean().to_frame('mais'+str(i))\n",
    "    ma_is = ma_is.join(tmpg, how='left')"
   ]
  }
 ],
 "metadata": {
  "anaconda-cloud": {},
  "kernelspec": {
   "display_name": "Python [conda env:tensorflow]",
   "language": "python",
   "name": "conda-env-tensorflow-py"
  },
  "language_info": {
   "codemirror_mode": {
    "name": "ipython",
    "version": 3
   },
   "file_extension": ".py",
   "mimetype": "text/x-python",
   "name": "python",
   "nbconvert_exporter": "python",
   "pygments_lexer": "ipython3",
   "version": "3.5.3"
  }
 },
 "nbformat": 4,
 "nbformat_minor": 1
}
